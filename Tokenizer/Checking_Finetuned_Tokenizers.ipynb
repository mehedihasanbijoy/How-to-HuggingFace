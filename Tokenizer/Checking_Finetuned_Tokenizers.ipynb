{
  "nbformat": 4,
  "nbformat_minor": 0,
  "metadata": {
    "colab": {
      "provenance": []
    },
    "kernelspec": {
      "name": "python3",
      "display_name": "Python 3"
    },
    "language_info": {
      "name": "python"
    }
  },
  "cells": [
    {
      "cell_type": "code",
      "execution_count": 6,
      "metadata": {
        "id": "W-zozwM840Zb"
      },
      "outputs": [],
      "source": [
        "from transformers import AutoTokenizer"
      ]
    },
    {
      "cell_type": "code",
      "source": [
        "example_sent = \"ধরুন আপনি একটা নতুন জামা কিনেছেন\""
      ],
      "metadata": {
        "id": "37pjmB365fvu"
      },
      "execution_count": 7,
      "outputs": []
    },
    {
      "cell_type": "code",
      "source": [
        "pretrained_tokenizer_name = \"bert-base-uncased\"\n",
        "tokenizer = AutoTokenizer.from_pretrained(pretrained_tokenizer_name)\n",
        "\n",
        "print(example_sent)\n",
        "print(tokenizer.tokenize(example_sent))\n",
        "print(tokenizer.encode(example_sent))\n",
        "print(tokenizer.decode(tokenizer.encode(example_sent)))"
      ],
      "metadata": {
        "colab": {
          "base_uri": "https://localhost:8080/"
        },
        "id": "RIvBe2Hp47fV",
        "outputId": "c44aed2a-6521-43b3-d57f-fc145fbf3cda"
      },
      "execution_count": 8,
      "outputs": [
        {
          "output_type": "stream",
          "name": "stdout",
          "text": [
            "ধরুন আপনি একটা নতুন জামা কিনেছেন\n",
            "['ধ', '##র', '##ন', 'আ', '##প', '##ন', '##ি', 'এ', '##ক', '##ট', '##া', 'ন', '##ত', '##ন', 'জ', '##া', '##ম', '##া', 'ক', '##ি', '##ন', '##ে', '##ছ', '##ে', '##ন']\n",
            "[101, 1365, 29908, 29902, 1348, 29903, 29902, 29915, 1351, 29889, 29895, 29914, 1366, 29898, 29902, 1358, 29914, 29906, 29914, 1353, 29915, 29902, 29917, 29893, 29917, 29902, 102]\n",
            "[CLS] ধরন আপনি একটা নতন জামা কিনেছেন [SEP]\n"
          ]
        }
      ]
    },
    {
      "cell_type": "code",
      "source": [],
      "metadata": {
        "id": "h2hpGxbm5b0n"
      },
      "execution_count": 8,
      "outputs": []
    },
    {
      "cell_type": "code",
      "source": [
        "pretrained_tokenizer_name = \"mehedihasanbijoy/bert-base-uncased-finetuned-bangla-tokenizer\"\n",
        "tokenizer = AutoTokenizer.from_pretrained(pretrained_tokenizer_name)\n",
        "\n",
        "print(example_sent)\n",
        "print(tokenizer.tokenize(example_sent))\n",
        "print(tokenizer.encode(example_sent))\n",
        "print(tokenizer.decode(tokenizer.encode(example_sent)))"
      ],
      "metadata": {
        "colab": {
          "base_uri": "https://localhost:8080/"
        },
        "id": "Jc0LuZ6T47h9",
        "outputId": "f39d6c00-d00e-496b-fdb8-c21d7dc18740"
      },
      "execution_count": 9,
      "outputs": [
        {
          "output_type": "stream",
          "name": "stdout",
          "text": [
            "ধরুন আপনি একটা নতুন জামা কিনেছেন\n",
            "['ধরন', 'আপনি', 'একটা', 'নতন', 'জামা', 'কিনেছেন']\n",
            "[2, 3569, 644, 391, 526, 6236, 27913, 3]\n",
            "[CLS] ধরন আপনি একটা নতন জামা কিনেছেন [SEP]\n"
          ]
        }
      ]
    },
    {
      "cell_type": "code",
      "source": [],
      "metadata": {
        "id": "aoQgG4qt41aQ"
      },
      "execution_count": 9,
      "outputs": []
    }
  ]
}